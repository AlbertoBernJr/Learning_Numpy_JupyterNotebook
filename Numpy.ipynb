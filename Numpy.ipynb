{
 "cells": [
  {
   "cell_type": "markdown",
   "id": "66df99c4",
   "metadata": {},
   "source": [
    "### Titulo"
   ]
  },
  {
   "cell_type": "code",
   "execution_count": 1,
   "id": "8294c30a",
   "metadata": {},
   "outputs": [
    {
     "name": "stdout",
     "output_type": "stream",
     "text": [
      "Requirement already satisfied: Numpy in c:\\users\\alber\\desktop\\prog\\visualstudiocode\\virtual_environment_python\\.venv\\lib\\site-packages (2.3.1)\n",
      "Note: you may need to restart the kernel to use updated packages.\n"
     ]
    }
   ],
   "source": [
    "pip install Numpy"
   ]
  },
  {
   "cell_type": "code",
   "execution_count": 1,
   "id": "45012279",
   "metadata": {},
   "outputs": [],
   "source": [
    "import sys\n",
    "import numpy as np"
   ]
  },
  {
   "cell_type": "markdown",
   "id": "40d2de0d",
   "metadata": {},
   "source": [
    "Basic Numpy arrays"
   ]
  },
  {
   "cell_type": "code",
   "execution_count": 3,
   "id": "fcfbc6b6",
   "metadata": {},
   "outputs": [
    {
     "data": {
      "text/plain": [
       "(np.int64(2), np.float64(1.5))"
      ]
     },
     "execution_count": 3,
     "metadata": {},
     "output_type": "execute_result"
    }
   ],
   "source": [
    "np.array([1, 2, 3, 4])\n",
    "a=np.array([1, 2, 3, 4])\n",
    "b=np.array([0, 1, 1.5, 3])\n",
    "a[1], b[2]"
   ]
  },
  {
   "cell_type": "code",
   "execution_count": 12,
   "id": "68165389",
   "metadata": {},
   "outputs": [
    {
     "name": "stdout",
     "output_type": "stream",
     "text": [
      "2 1.5\n"
     ]
    }
   ],
   "source": [
    "print(a[1], b[2])"
   ]
  },
  {
   "cell_type": "code",
   "execution_count": 10,
   "id": "3d1fa3df",
   "metadata": {},
   "outputs": [
    {
     "name": "stdout",
     "output_type": "stream",
     "text": [
      "[2 3 4]\n"
     ]
    }
   ],
   "source": [
    "print(a[1:])"
   ]
  },
  {
   "cell_type": "code",
   "execution_count": 11,
   "id": "9fd76bba",
   "metadata": {},
   "outputs": [
    {
     "name": "stdout",
     "output_type": "stream",
     "text": [
      "[2 3]\n"
     ]
    }
   ],
   "source": [
    "print(a[1:-1])"
   ]
  },
  {
   "cell_type": "code",
   "execution_count": 14,
   "id": "35e36af8",
   "metadata": {},
   "outputs": [
    {
     "name": "stdout",
     "output_type": "stream",
     "text": [
      "[1 3]\n"
     ]
    }
   ],
   "source": [
    "print(a[::2])"
   ]
  },
  {
   "cell_type": "code",
   "execution_count": 18,
   "id": "485feab7",
   "metadata": {},
   "outputs": [
    {
     "name": "stdout",
     "output_type": "stream",
     "text": [
      "1 3 4\n",
      "[1 3 4]\n"
     ]
    }
   ],
   "source": [
    "print(a[0], a[2], a[3])\n",
    "print(a[[0, 2, 3]])"
   ]
  },
  {
   "cell_type": "markdown",
   "id": "b9c34c22",
   "metadata": {},
   "source": [
    "---"
   ]
  },
  {
   "cell_type": "code",
   "execution_count": 5,
   "id": "2a76fbbd",
   "metadata": {},
   "outputs": [
    {
     "data": {
      "text/plain": [
       "array([1, 2, 3, 4], dtype=int8)"
      ]
     },
     "execution_count": 5,
     "metadata": {},
     "output_type": "execute_result"
    }
   ],
   "source": [
    "np.array([1, 2, 3, 4], dtype=np.int8)"
   ]
  },
  {
   "cell_type": "code",
   "execution_count": 9,
   "id": "d096ed9c",
   "metadata": {},
   "outputs": [
    {
     "data": {
      "text/plain": [
       "array([1., 2., 3., 4.])"
      ]
     },
     "execution_count": 9,
     "metadata": {},
     "output_type": "execute_result"
    }
   ],
   "source": [
    "np.array([1, 2, 3, 4], dtype=np.float64)"
   ]
  },
  {
   "cell_type": "markdown",
   "id": "5e3b9242",
   "metadata": {},
   "source": [
    "---"
   ]
  },
  {
   "cell_type": "markdown",
   "id": "35d9cca7",
   "metadata": {},
   "source": [
    "## Dimenções - matrizes"
   ]
  },
  {
   "cell_type": "code",
   "execution_count": 2,
   "id": "07d824cd",
   "metadata": {},
   "outputs": [
    {
     "ename": "NameError",
     "evalue": "name 'np' is not defined",
     "output_type": "error",
     "traceback": [
      "\u001b[31m---------------------------------------------------------------------------\u001b[39m",
      "\u001b[31mNameError\u001b[39m                                 Traceback (most recent call last)",
      "\u001b[36mCell\u001b[39m\u001b[36m \u001b[39m\u001b[32mIn[2]\u001b[39m\u001b[32m, line 1\u001b[39m\n\u001b[32m----> \u001b[39m\u001b[32m1\u001b[39m o=\u001b[43mnp\u001b[49m.array([\n\u001b[32m      2\u001b[39m     [\u001b[32m1\u001b[39m, \u001b[32m2\u001b[39m, \u001b[32m3\u001b[39m],\n\u001b[32m      3\u001b[39m     [\u001b[32m4\u001b[39m, \u001b[32m5\u001b[39m, \u001b[32m6\u001b[39m]\n\u001b[32m      4\u001b[39m     ])\n",
      "\u001b[31mNameError\u001b[39m: name 'np' is not defined"
     ]
    }
   ],
   "source": [
    "o=np.array([\n",
    "    [1, 2, 3],\n",
    "    [4, 5, 6]\n",
    "    ])"
   ]
  },
  {
   "cell_type": "code",
   "execution_count": null,
   "id": "ea5ca68c",
   "metadata": {},
   "outputs": [
    {
     "name": "stdout",
     "output_type": "stream",
     "text": [
      "<class 'numpy.ndarray'>\n",
      "(2, 3)\n",
      "2\n",
      "6\n"
     ]
    }
   ],
   "source": [
    "print(type(o))\n",
    "print(o.shape)\n",
    "print(o.ndim)\n",
    "print(o.size)"
   ]
  },
  {
   "cell_type": "markdown",
   "id": "7a9d745f",
   "metadata": {},
   "source": [
    "---"
   ]
  },
  {
   "cell_type": "markdown",
   "id": "2f25a12f",
   "metadata": {},
   "source": [
    "### Resumo Estatística"
   ]
  },
  {
   "cell_type": "code",
   "execution_count": 23,
   "id": "b0e255b4",
   "metadata": {},
   "outputs": [
    {
     "name": "stdout",
     "output_type": "stream",
     "text": [
      "Somar tudo: 45\n",
      "Soma de toda a coluna (0 = vertical): [12 15 18]\n",
      "Soma de toda a linha (1 = horizontal): [ 6 15 24]\n",
      "Média: 5.0\n",
      "Média de toda a linha: [2. 5. 8.]\n",
      "Desvio padrão: 2.581988897471611\n"
     ]
    }
   ],
   "source": [
    "a = np.array([[1, 2, 3],\n",
    "             [4, 5, 6],\n",
    "             [7, 8, 9]\n",
    "             ])\n",
    "print(f'Somar tudo: {a.sum()}')\n",
    "print(f'Soma de toda a coluna (0 = vertical): {a.sum(axis=0)}')\n",
    "print(f'Soma de toda a linha (1 = horizontal): {a.sum(axis=1)}')\n",
    "print(f'Média: {a.mean()}')\n",
    "print(f'Média de toda a linha: {a.mean(axis=1)}')\n",
    "print(f'Desvio padrão: {a.std()}')"
   ]
  },
  {
   "cell_type": "markdown",
   "id": "d6ba3e74",
   "metadata": {},
   "source": [
    "---"
   ]
  },
  {
   "cell_type": "markdown",
   "id": "4ec99323",
   "metadata": {},
   "source": [
    "### Operações vetorizadas"
   ]
  },
  {
   "cell_type": "code",
   "execution_count": null,
   "id": "223631ba",
   "metadata": {},
   "outputs": [
    {
     "name": "stdout",
     "output_type": "stream",
     "text": [
      "[0 1 2 3]\n",
      "[10 11 12 13]\n",
      "+100: [100 101 102 103]\n",
      "Soma B+C: [10 11 12 13]\n"
     ]
    },
    {
     "data": {
      "text/plain": [
       "array([10, 11, 12, 13])"
      ]
     },
     "execution_count": 35,
     "metadata": {},
     "output_type": "execute_result"
    }
   ],
   "source": [
    "a=np.arange(4) #gera uma sequencia do 0 - 3\n",
    "print(a)\n",
    "print(a+10) #adicionando +10 em todos os elementos\n",
    "a+=100 #não pode ser adicionado dentro de uma função\n",
    "print(f'+100: {a}')\n",
    "\n",
    "#------\n",
    "b=np.arange(4)\n",
    "c=np.array([10, 10, 10, 10])\n",
    "print(f'Soma B+C: {b+c}')"
   ]
  },
  {
   "cell_type": "markdown",
   "id": "43e39846",
   "metadata": {},
   "source": [
    "---"
   ]
  },
  {
   "cell_type": "markdown",
   "id": "851adeef",
   "metadata": {},
   "source": [
    "### Boolean Arrays"
   ]
  },
  {
   "cell_type": "code",
   "execution_count": 18,
   "id": "f00b2436",
   "metadata": {},
   "outputs": [
    {
     "name": "stdout",
     "output_type": "stream",
     "text": [
      "D -> [0 1 2 3]\n",
      "d[[0, -1]] -> [0 3]\n",
      "d[[True, False, False, True]] -> [0 3]\n",
      "d>2 -> [False False False  True]\n"
     ]
    }
   ],
   "source": [
    "d=np.arange(4)\n",
    "print(f'D -> {d}')\n",
    "print(f'd[[0, -1]] -> {d[[0, -1]]}') #1° forma de exibir valores\n",
    "print(f'd[[True, False, False, True]] -> {d[[True, False, False, True]]}') #2° forma de exibir valores\n",
    "print(f'd>2 -> {d>2}')"
   ]
  },
  {
   "cell_type": "code",
   "execution_count": 19,
   "id": "4a72f273",
   "metadata": {},
   "outputs": [
    {
     "name": "stdout",
     "output_type": "stream",
     "text": [
      "A -> [0 1 2 3 4]\n",
      "a>=2 -> [False False  True  True  True]\n",
      "a[a >= 2] -> [2 3 4]\n"
     ]
    }
   ],
   "source": [
    "a=np.arange(5)\n",
    "print(f'A -> {a}')\n",
    "print(f'a>=2 -> {a>=2}')\n",
    "print(f'a[a >= 2] -> {a[a >= 2]}')"
   ]
  },
  {
   "cell_type": "code",
   "execution_count": 24,
   "id": "cea02fa9",
   "metadata": {},
   "outputs": [
    {
     "name": "stdout",
     "output_type": "stream",
     "text": [
      "A -> [0 1 2 3 4]\n",
      "Mean A -> 2.0\n",
      "a>=a2 -> [False False  True  True  True]\n",
      "a[a >= a2] -> [2 3 4]\n"
     ]
    }
   ],
   "source": [
    "a=np.arange(5)\n",
    "a2=a.mean()\n",
    "print(f'A -> {a}')\n",
    "print(f'Mean A -> {a2}')\n",
    "print(f'a>=a2 -> {a>=a2}')\n",
    "print(f'a[a >= a2] -> {a[a >= a2]}')"
   ]
  },
  {
   "cell_type": "code",
   "execution_count": 29,
   "id": "fca50636",
   "metadata": {},
   "outputs": [
    {
     "name": "stdout",
     "output_type": "stream",
     "text": [
      "A -> [0 1 2 3 4]\n",
      "a[(a == 1) | (a==2) ] -> [1 2]\n",
      "a[(a<=2) & (a%2==0)] -> [0 2]\n"
     ]
    }
   ],
   "source": [
    "a=np.arange(5)\n",
    "print(f'A -> {a}')\n",
    "print(f'a[(a == 1) | (a==2) ] -> {a[(a == 1) | (a==2)]}')\n",
    "print(f'a[(a<=2) & (a%2==0)] -> {a[(a <= 2) & (a%2==0)]}')"
   ]
  },
  {
   "cell_type": "code",
   "execution_count": null,
   "id": "10ff6c8a",
   "metadata": {},
   "outputs": [
    {
     "name": "stdout",
     "output_type": "stream",
     "text": [
      "B -> [[5 5]\n",
      " [3 9]]\n",
      "b < 5 -> [[False False]\n",
      " [ True False]]\n",
      "b[np.array([[True, False], [True, False]])] -> [5 3]\n"
     ]
    }
   ],
   "source": [
    "b=np.random.randint(10, size=(2, 2))\n",
    "print(f'B -> {b}')\n",
    "print(f'b < 5 -> {b < 5}' )\n",
    "mask=b[np.array([\n",
    "    [True, False],\n",
    "    [True, False]\n",
    "    ])]\n",
    "print(f'b[np.array([[True, False], [True, False]])] -> {mask}')"
   ]
  }
 ],
 "metadata": {
  "kernelspec": {
   "display_name": ".venv",
   "language": "python",
   "name": "python3"
  },
  "language_info": {
   "codemirror_mode": {
    "name": "ipython",
    "version": 3
   },
   "file_extension": ".py",
   "mimetype": "text/x-python",
   "name": "python",
   "nbconvert_exporter": "python",
   "pygments_lexer": "ipython3",
   "version": "3.13.5"
  }
 },
 "nbformat": 4,
 "nbformat_minor": 5
}

{
 "cells": [
  {
   "cell_type": "code",
   "execution_count": null,
   "id": "23586dfc",
   "metadata": {},
   "outputs": [],
   "source": [
    "pip install pandas"
   ]
  },
  {
   "cell_type": "code",
   "execution_count": 1,
   "id": "0c0a306a",
   "metadata": {},
   "outputs": [],
   "source": [
    "import pandas as pd\n",
    "import numpy as np"
   ]
  },
  {
   "cell_type": "markdown",
   "id": "fddd734e",
   "metadata": {},
   "source": [
    "---"
   ]
  },
  {
   "cell_type": "code",
   "execution_count": 4,
   "id": "a8904344",
   "metadata": {},
   "outputs": [
    {
     "data": {
      "text/plain": [
       "0    10.900\n",
       "1    36.789\n",
       "2    67.980\n",
       "dtype: float64"
      ]
     },
     "execution_count": 4,
     "metadata": {},
     "output_type": "execute_result"
    }
   ],
   "source": [
    "s=pd.Series([10.90, 36.789, 67.980])\n",
    "s"
   ]
  },
  {
   "cell_type": "code",
   "execution_count": 5,
   "id": "1fa29ca4",
   "metadata": {},
   "outputs": [
    {
     "data": {
      "text/plain": [
       "0    10.900\n",
       "1    36.789\n",
       "2    67.980\n",
       "Name: Séries, dtype: float64"
      ]
     },
     "execution_count": 5,
     "metadata": {},
     "output_type": "execute_result"
    }
   ],
   "source": [
    "s.name=\"Séries\" # adicionando nomes\n",
    "s"
   ]
  },
  {
   "cell_type": "code",
   "execution_count": null,
   "id": "49522301",
   "metadata": {},
   "outputs": [
    {
     "data": {
      "text/plain": [
       "dtype('float64')"
      ]
     },
     "execution_count": 6,
     "metadata": {},
     "output_type": "execute_result"
    }
   ],
   "source": [
    "s.dtype #exibindo o tipo de dados "
   ]
  },
  {
   "cell_type": "code",
   "execution_count": 7,
   "id": "8be71f69",
   "metadata": {},
   "outputs": [
    {
     "data": {
      "text/plain": [
       "array([10.9  , 36.789, 67.98 ])"
      ]
     },
     "execution_count": 7,
     "metadata": {},
     "output_type": "execute_result"
    }
   ],
   "source": [
    "s.values #exibindo os valores"
   ]
  },
  {
   "cell_type": "code",
   "execution_count": 11,
   "id": "6a635934",
   "metadata": {},
   "outputs": [
    {
     "name": "stdout",
     "output_type": "stream",
     "text": [
      "3 valor: 67.98\n",
      "2 valor: 36.789\n"
     ]
    }
   ],
   "source": [
    "print(f'3 valor: {s[2]}')\n",
    "print(f'2 valor: {s[1]}')"
   ]
  },
  {
   "cell_type": "code",
   "execution_count": 12,
   "id": "f2d8c790",
   "metadata": {},
   "outputs": [
    {
     "data": {
      "text/plain": [
       "RangeIndex(start=0, stop=3, step=1)"
      ]
     },
     "execution_count": 12,
     "metadata": {},
     "output_type": "execute_result"
    }
   ],
   "source": [
    "s.index"
   ]
  },
  {
   "cell_type": "markdown",
   "id": "da3e7566",
   "metadata": {},
   "source": [
    "---"
   ]
  },
  {
   "cell_type": "code",
   "execution_count": 6,
   "id": "5c222b8f",
   "metadata": {},
   "outputs": [
    {
     "data": {
      "text/plain": [
       "idade        10.900\n",
       "Distancia    36.789\n",
       "KM           67.980\n",
       "Name: Séries, dtype: float64"
      ]
     },
     "execution_count": 6,
     "metadata": {},
     "output_type": "execute_result"
    }
   ],
   "source": [
    "#Editando o index\n",
    "s.index=[\n",
    "    \"idade\",\n",
    "    \"Distancia\",\n",
    "    \"KM\",\n",
    "]\n",
    "\n",
    "s"
   ]
  },
  {
   "cell_type": "code",
   "execution_count": 7,
   "id": "84ef6233",
   "metadata": {},
   "outputs": [
    {
     "data": {
      "text/plain": [
       "id          10.9\n",
       "Distance    80.0\n",
       "Altura       2.0\n",
       "Name: caracteristicas, dtype: float64"
      ]
     },
     "execution_count": 7,
     "metadata": {},
     "output_type": "execute_result"
    }
   ],
   "source": [
    "#criando séries manualmente - 1\n",
    "pd.Series ({\n",
    "    'id': 10.90,\n",
    "    'Distance': 80,\n",
    "    'Altura': 2\n",
    "}, name= 'caracteristicas')"
   ]
  },
  {
   "cell_type": "code",
   "execution_count": 3,
   "id": "fc5d125b",
   "metadata": {},
   "outputs": [
    {
     "data": {
      "text/plain": [
       "id           90.10\n",
       "Distancia    79.20\n",
       "Altura        1.79\n",
       "Name: caracteristicas, dtype: float64"
      ]
     },
     "execution_count": 3,
     "metadata": {},
     "output_type": "execute_result"
    }
   ],
   "source": [
    "#criando séries manualmene - 2\n",
    "pd.Series(\n",
    "    [90.10, 79.2, 1.79],\n",
    "    index=['id', 'Distancia', 'Altura'],\n",
    "    name=\"caracteristicas\"\n",
    ")"
   ]
  },
  {
   "cell_type": "code",
   "execution_count": null,
   "id": "d02887c6",
   "metadata": {},
   "outputs": [
    {
     "data": {
      "text/plain": [
       "idade        10.900\n",
       "Distancia    36.789\n",
       "KM           67.980\n",
       "Name: Séries, dtype: float64"
      ]
     },
     "execution_count": 8,
     "metadata": {},
     "output_type": "execute_result"
    }
   ],
   "source": [
    "#crianndo Series a partir de outras Series e só ir especificando os indices\n",
    "pd.Series(s, index=['idade', 'Distancia', 'KM'])"
   ]
  },
  {
   "cell_type": "code",
   "execution_count": 15,
   "id": "a9218ab5",
   "metadata": {},
   "outputs": [
    {
     "name": "stdout",
     "output_type": "stream",
     "text": [
      "idade        10.900\n",
      "Distancia    36.789\n",
      "KM           67.980\n",
      "Name: Séries, dtype: float64\n",
      "-----\n",
      "ultimo valor: 67.98\n",
      "primeiro valor: 67.98\n"
     ]
    }
   ],
   "source": [
    "#chamando índice por posição mesmo que o índice tenha nome\n",
    "# usando [ .iloc [n] ] -> n = posição\n",
    "print(s)\n",
    "print(\"-----\")\n",
    "print(f\"ultimo valor: {s.iloc[-1]}\")\n",
    "print(f\"primeiro valor: {s.iloc[-1]}\")"
   ]
  },
  {
   "cell_type": "code",
   "execution_count": 16,
   "id": "63a084f4",
   "metadata": {},
   "outputs": [
    {
     "data": {
      "text/plain": [
       "idade    10.90\n",
       "KM       67.98\n",
       "Name: Séries, dtype: float64"
      ]
     },
     "execution_count": 16,
     "metadata": {},
     "output_type": "execute_result"
    }
   ],
   "source": [
    "s.iloc[[0, -1]]"
   ]
  },
  {
   "cell_type": "markdown",
   "id": "243846ea",
   "metadata": {},
   "source": [
    "---"
   ]
  },
  {
   "cell_type": "markdown",
   "id": "021e8ba5",
   "metadata": {},
   "source": [
    "Boolean arrays"
   ]
  },
  {
   "cell_type": "code",
   "execution_count": 21,
   "id": "e0822bb6",
   "metadata": {},
   "outputs": [
    {
     "name": "stdout",
     "output_type": "stream",
     "text": [
      "idade        10.900\n",
      "Distancia    36.789\n",
      "KM           67.980\n",
      "Name: Séries, dtype: float64\n",
      "---\n",
      "idade        False\n",
      "Distancia     True\n",
      "KM            True\n",
      "Name: Séries, dtype: bool\n"
     ]
    }
   ],
   "source": [
    "print(s)\n",
    "print(\"---\")\n",
    "print(s>20)"
   ]
  },
  {
   "cell_type": "code",
   "execution_count": 22,
   "id": "62f7a805",
   "metadata": {},
   "outputs": [
    {
     "data": {
      "text/plain": [
       "Distancia    36.789\n",
       "KM           67.980\n",
       "Name: Séries, dtype: float64"
      ]
     },
     "execution_count": 22,
     "metadata": {},
     "output_type": "execute_result"
    }
   ],
   "source": [
    "s[s>20]"
   ]
  }
 ],
 "metadata": {
  "kernelspec": {
   "display_name": ".venv",
   "language": "python",
   "name": "python3"
  },
  "language_info": {
   "codemirror_mode": {
    "name": "ipython",
    "version": 3
   },
   "file_extension": ".py",
   "mimetype": "text/x-python",
   "name": "python",
   "nbconvert_exporter": "python",
   "pygments_lexer": "ipython3",
   "version": "3.13.5"
  }
 },
 "nbformat": 4,
 "nbformat_minor": 5
}

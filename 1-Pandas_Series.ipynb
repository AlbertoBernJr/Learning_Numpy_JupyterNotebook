{
 "cells": [
  {
   "cell_type": "code",
   "execution_count": null,
   "id": "23586dfc",
   "metadata": {},
   "outputs": [],
   "source": [
    "pip install pandas"
   ]
  },
  {
   "cell_type": "code",
   "execution_count": 1,
   "id": "0c0a306a",
   "metadata": {},
   "outputs": [],
   "source": [
    "import pandas as pd\n",
    "import numpy as np"
   ]
  },
  {
   "cell_type": "markdown",
   "id": "fddd734e",
   "metadata": {},
   "source": [
    "---"
   ]
  },
  {
   "cell_type": "code",
   "execution_count": 4,
   "id": "a8904344",
   "metadata": {},
   "outputs": [
    {
     "data": {
      "text/plain": [
       "0    10.900\n",
       "1    36.789\n",
       "2    67.980\n",
       "dtype: float64"
      ]
     },
     "execution_count": 4,
     "metadata": {},
     "output_type": "execute_result"
    }
   ],
   "source": [
    "s=pd.Series([10.90, 36.789, 67.980])\n",
    "s"
   ]
  },
  {
   "cell_type": "code",
   "execution_count": 5,
   "id": "1fa29ca4",
   "metadata": {},
   "outputs": [
    {
     "data": {
      "text/plain": [
       "0    10.900\n",
       "1    36.789\n",
       "2    67.980\n",
       "Name: Séries, dtype: float64"
      ]
     },
     "execution_count": 5,
     "metadata": {},
     "output_type": "execute_result"
    }
   ],
   "source": [
    "s.name=\"Séries\" # adicionando nomes\n",
    "s"
   ]
  },
  {
   "cell_type": "code",
   "execution_count": null,
   "id": "49522301",
   "metadata": {},
   "outputs": [
    {
     "data": {
      "text/plain": [
       "dtype('float64')"
      ]
     },
     "execution_count": 6,
     "metadata": {},
     "output_type": "execute_result"
    }
   ],
   "source": [
    "s.dtype #exibindo o tipo de dados "
   ]
  },
  {
   "cell_type": "code",
   "execution_count": 5,
   "id": "8be71f69",
   "metadata": {},
   "outputs": [
    {
     "data": {
      "text/plain": [
       "array([10.9  , 36.789, 67.98 ])"
      ]
     },
     "execution_count": 5,
     "metadata": {},
     "output_type": "execute_result"
    }
   ],
   "source": [
    "s.values #exibindo os valores"
   ]
  },
  {
   "cell_type": "code",
   "execution_count": 11,
   "id": "6a635934",
   "metadata": {},
   "outputs": [
    {
     "name": "stdout",
     "output_type": "stream",
     "text": [
      "3 valor: 67.98\n",
      "2 valor: 36.789\n"
     ]
    }
   ],
   "source": [
    "print(f'3 valor: {s[2]}')\n",
    "print(f'2 valor: {s[1]}')"
   ]
  },
  {
   "cell_type": "code",
   "execution_count": 12,
   "id": "f2d8c790",
   "metadata": {},
   "outputs": [
    {
     "data": {
      "text/plain": [
       "RangeIndex(start=0, stop=3, step=1)"
      ]
     },
     "execution_count": 12,
     "metadata": {},
     "output_type": "execute_result"
    }
   ],
   "source": [
    "s.index"
   ]
  },
  {
   "cell_type": "markdown",
   "id": "da3e7566",
   "metadata": {},
   "source": [
    "---"
   ]
  },
  {
   "cell_type": "code",
   "execution_count": 8,
   "id": "5c222b8f",
   "metadata": {},
   "outputs": [
    {
     "data": {
      "text/plain": [
       "idade        10.900\n",
       "Distancia    36.789\n",
       "KM           67.980\n",
       "dtype: float64"
      ]
     },
     "execution_count": 8,
     "metadata": {},
     "output_type": "execute_result"
    }
   ],
   "source": [
    "#Editando o index\n",
    "s.index=[\n",
    "    \"idade\",\n",
    "    \"Distancia\",\n",
    "    \"KM\",\n",
    "]\n",
    "\n",
    "s"
   ]
  },
  {
   "cell_type": "code",
   "execution_count": 7,
   "id": "84ef6233",
   "metadata": {},
   "outputs": [
    {
     "data": {
      "text/plain": [
       "id          10.9\n",
       "Distance    80.0\n",
       "Altura       2.0\n",
       "Name: caracteristicas, dtype: float64"
      ]
     },
     "execution_count": 7,
     "metadata": {},
     "output_type": "execute_result"
    }
   ],
   "source": [
    "#criando séries manualmente - 1\n",
    "pd.Series ({\n",
    "    'id': 10.90,\n",
    "    'Distance': 80,\n",
    "    'Altura': 2\n",
    "}, name= 'caracteristicas')"
   ]
  },
  {
   "cell_type": "code",
   "execution_count": 3,
   "id": "fc5d125b",
   "metadata": {},
   "outputs": [
    {
     "data": {
      "text/plain": [
       "id           90.10\n",
       "Distancia    79.20\n",
       "Altura        1.79\n",
       "Name: caracteristicas, dtype: float64"
      ]
     },
     "execution_count": 3,
     "metadata": {},
     "output_type": "execute_result"
    }
   ],
   "source": [
    "#criando séries manualmene - 2\n",
    "pd.Series(\n",
    "    [90.10, 79.2, 1.79],\n",
    "    index=['id', 'Distancia', 'Altura'],\n",
    "    name=\"caracteristicas\"\n",
    ")"
   ]
  },
  {
   "cell_type": "code",
   "execution_count": null,
   "id": "d02887c6",
   "metadata": {},
   "outputs": [
    {
     "data": {
      "text/plain": [
       "idade        10.900\n",
       "Distancia    36.789\n",
       "KM           67.980\n",
       "Name: Séries, dtype: float64"
      ]
     },
     "execution_count": 8,
     "metadata": {},
     "output_type": "execute_result"
    }
   ],
   "source": [
    "#crianndo Series a partir de outras Series e só ir especificando os indices\n",
    "pd.Series(s, index=['idade', 'Distancia', 'KM'])"
   ]
  },
  {
   "cell_type": "code",
   "execution_count": 15,
   "id": "a9218ab5",
   "metadata": {},
   "outputs": [
    {
     "name": "stdout",
     "output_type": "stream",
     "text": [
      "idade        10.900\n",
      "Distancia    36.789\n",
      "KM           67.980\n",
      "Name: Séries, dtype: float64\n",
      "-----\n",
      "ultimo valor: 67.98\n",
      "primeiro valor: 67.98\n"
     ]
    }
   ],
   "source": [
    "#chamando índice por posição mesmo que o índice tenha nome\n",
    "# usando [ .iloc [n] ] -> n = posição\n",
    "print(s)\n",
    "print(\"-----\")\n",
    "print(f\"ultimo valor: {s.iloc[-1]}\")\n",
    "print(f\"primeiro valor: {s.iloc[-1]}\")"
   ]
  },
  {
   "cell_type": "code",
   "execution_count": 16,
   "id": "63a084f4",
   "metadata": {},
   "outputs": [
    {
     "data": {
      "text/plain": [
       "idade    10.90\n",
       "KM       67.98\n",
       "Name: Séries, dtype: float64"
      ]
     },
     "execution_count": 16,
     "metadata": {},
     "output_type": "execute_result"
    }
   ],
   "source": [
    "s.iloc[[0, -1]]"
   ]
  },
  {
   "cell_type": "markdown",
   "id": "243846ea",
   "metadata": {},
   "source": [
    "---"
   ]
  },
  {
   "cell_type": "markdown",
   "id": "021e8ba5",
   "metadata": {},
   "source": [
    "Boolean arrays"
   ]
  },
  {
   "cell_type": "code",
   "execution_count": 7,
   "id": "e0822bb6",
   "metadata": {},
   "outputs": [
    {
     "name": "stdout",
     "output_type": "stream",
     "text": [
      "0    10.900\n",
      "1    36.789\n",
      "2    67.980\n",
      "dtype: float64\n",
      "---\n",
      "0    False\n",
      "1     True\n",
      "2     True\n",
      "dtype: bool\n"
     ]
    }
   ],
   "source": [
    "print(s)\n",
    "print(\"---\")\n",
    "print(s>20)"
   ]
  },
  {
   "cell_type": "code",
   "execution_count": 22,
   "id": "62f7a805",
   "metadata": {},
   "outputs": [
    {
     "data": {
      "text/plain": [
       "Distancia    36.789\n",
       "KM           67.980\n",
       "Name: Séries, dtype: float64"
      ]
     },
     "execution_count": 22,
     "metadata": {},
     "output_type": "execute_result"
    }
   ],
   "source": [
    "s[s>20]"
   ]
  },
  {
   "cell_type": "markdown",
   "id": "2841e216",
   "metadata": {},
   "source": [
    "---"
   ]
  },
  {
   "cell_type": "markdown",
   "id": "73e6a763",
   "metadata": {},
   "source": [
    "### Operações e Métodos"
   ]
  },
  {
   "cell_type": "code",
   "execution_count": null,
   "id": "f4f9799f",
   "metadata": {},
   "outputs": [
    {
     "name": "stdout",
     "output_type": "stream",
     "text": [
      "idade        10.900\n",
      "Distancia    36.789\n",
      "KM           67.980\n",
      "dtype: float64\n",
      "----\n"
     ]
    },
    {
     "data": {
      "text/plain": [
       "idade        10900.0\n",
       "Distancia    36789.0\n",
       "KM           67980.0\n",
       "dtype: float64"
      ]
     },
     "execution_count": 10,
     "metadata": {},
     "output_type": "execute_result"
    }
   ],
   "source": [
    "print(s)\n",
    "print(\"----\")\n",
    "s*1_000 #multiplicando por 1.000"
   ]
  },
  {
   "cell_type": "code",
   "execution_count": null,
   "id": "20f116bc",
   "metadata": {},
   "outputs": [
    {
     "data": {
      "text/plain": [
       "np.float64(38.556333333333335)"
      ]
     },
     "execution_count": 11,
     "metadata": {},
     "output_type": "execute_result"
    }
   ],
   "source": [
    "s.mean() #média dos valores"
   ]
  },
  {
   "cell_type": "markdown",
   "id": "457df2a7",
   "metadata": {},
   "source": [
    "---"
   ]
  },
  {
   "cell_type": "markdown",
   "id": "7fd2b3f1",
   "metadata": {},
   "source": [
    "### Modificando Series"
   ]
  },
  {
   "cell_type": "code",
   "execution_count": 21,
   "id": "b6becbc7",
   "metadata": {},
   "outputs": [
    {
     "name": "stdout",
     "output_type": "stream",
     "text": [
      "Antes: idade        20.980\n",
      "Distancia    36.789\n",
      "KM           67.980\n",
      "dtype: float64\n",
      "-------------------------\n",
      "Depois: idade        20.980\n",
      "Distancia    36.789\n",
      "KM           70.550\n",
      "dtype: float64\n"
     ]
    }
   ],
   "source": [
    "print(f\"Antes: {s}\")\n",
    "\n",
    "s[\"KM\"]=70.55\n",
    "print(\"-\"*25)\n",
    "\n",
    "print(f\"Depois: {s}\")"
   ]
  },
  {
   "cell_type": "code",
   "execution_count": 22,
   "id": "394e0f77",
   "metadata": {},
   "outputs": [
    {
     "data": {
      "text/plain": [
       "idade        20.98\n",
       "Distancia    40.00\n",
       "KM           70.55\n",
       "dtype: float64"
      ]
     },
     "execution_count": 22,
     "metadata": {},
     "output_type": "execute_result"
    }
   ],
   "source": [
    "s.iloc[-2]=40 #modificando o penultimo elemento\n",
    "s\n"
   ]
  },
  {
   "cell_type": "code",
   "execution_count": null,
   "id": "10337e4e",
   "metadata": {},
   "outputs": [
    {
     "data": {
      "text/plain": [
       "idade        90.00\n",
       "Distancia    90.00\n",
       "KM           70.55\n",
       "dtype: float64"
      ]
     },
     "execution_count": 23,
     "metadata": {},
     "output_type": "execute_result"
    }
   ],
   "source": [
    "s[s<70]=90 #Modificando o valor de todos os elementos que são menores que 70\n",
    "s"
   ]
  },
  {
   "cell_type": "code",
   "execution_count": null,
   "id": "97ccb835",
   "metadata": {},
   "outputs": [],
   "source": []
  }
 ],
 "metadata": {
  "kernelspec": {
   "display_name": ".venv",
   "language": "python",
   "name": "python3"
  },
  "language_info": {
   "codemirror_mode": {
    "name": "ipython",
    "version": 3
   },
   "file_extension": ".py",
   "mimetype": "text/x-python",
   "name": "python",
   "nbconvert_exporter": "python",
   "pygments_lexer": "ipython3",
   "version": "3.13.5"
  }
 },
 "nbformat": 4,
 "nbformat_minor": 5
}
